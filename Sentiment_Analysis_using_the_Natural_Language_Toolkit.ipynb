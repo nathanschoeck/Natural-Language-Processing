{
  "nbformat": 4,
  "nbformat_minor": 0,
  "metadata": {
    "colab": {
      "provenance": [],
      "authorship_tag": "ABX9TyMKOVFQjsAp9B9B1J5APOAs",
      "include_colab_link": true
    },
    "kernelspec": {
      "name": "python3",
      "display_name": "Python 3"
    },
    "language_info": {
      "name": "python"
    }
  },
  "cells": [
    {
      "cell_type": "markdown",
      "metadata": {
        "id": "view-in-github",
        "colab_type": "text"
      },
      "source": [
        "<a href=\"https://colab.research.google.com/github/nathanschoeck/Natural-Language-Processing/blob/main/Sentiment_Analysis.ipynb\" target=\"_parent\"><img src=\"https://colab.research.google.com/assets/colab-badge.svg\" alt=\"Open In Colab\"/></a>"
      ]
    },
    {
      "cell_type": "markdown",
      "source": [
        "Below is an example of Python code for performing sentiment analysis using the Natural Language Toolkit (nltk) and a pre-trained model from the TextBlob library. This simple implementation can classify text as positive, negative, or neutral."
      ],
      "metadata": {
        "id": "7v9tgOr0jeUE"
      }
    },
    {
      "cell_type": "markdown",
      "source": [],
      "metadata": {
        "id": "QVY8JmZejeOF"
      }
    },
    {
      "cell_type": "code",
      "execution_count": 3,
      "metadata": {
        "id": "OL64jv2tUqme"
      },
      "outputs": [],
      "source": [
        "from textblob import TextBlob\n",
        "import matplotlib.pyplot as plt"
      ]
    },
    {
      "cell_type": "markdown",
      "source": [
        "2. Analyze Sentiment Function"
      ],
      "metadata": {
        "id": "lCtXIRGrjpZv"
      }
    },
    {
      "cell_type": "code",
      "source": [
        "def analyze_sentiment(text):\n",
        "    \"\"\"\n",
        "    Analyze the sentiment of the input text using TextBlob.\n",
        "    Returns polarity and subjectivity scores.\n",
        "    \"\"\"\n",
        "    blob = TextBlob(text)\n",
        "    polarity = blob.sentiment.polarity  # Polarity score: -1 (negative) to +1 (positive)\n",
        "    subjectivity = blob.sentiment.subjectivity  # Subjectivity score: 0 (objective) to 1 (subjective)\n",
        "    return polarity, subjectivity"
      ],
      "metadata": {
        "id": "w8i93zBQjoqV"
      },
      "execution_count": 4,
      "outputs": []
    },
    {
      "cell_type": "markdown",
      "source": [
        "3. Classify Sentiment Function"
      ],
      "metadata": {
        "id": "tFVn11O3jyaA"
      }
    },
    {
      "cell_type": "code",
      "source": [
        "def classify_sentiment(polarity):\n",
        "    \"\"\"\n",
        "    Classify sentiment based on polarity.\n",
        "    \"\"\"\n",
        "    if polarity > 0:\n",
        "        return \"Positive\"\n",
        "    elif polarity < 0:\n",
        "        return \"Negative\"\n",
        "    else:\n",
        "        return \"Neutral\""
      ],
      "metadata": {
        "id": "BPBr0lnTjyjf"
      },
      "execution_count": 5,
      "outputs": []
    },
    {
      "cell_type": "markdown",
      "source": [
        "Visualize Sentiments Function"
      ],
      "metadata": {
        "id": "e4Qvexcxj4jf"
      }
    },
    {
      "cell_type": "code",
      "source": [
        "def visualize_sentiments(texts, sentiments):\n",
        "    \"\"\"\n",
        "    Visualize the sentiment classifications as a bar chart.\n",
        "    \"\"\"\n",
        "    sentiment_counts = {sentiment: sentiments.count(sentiment) for sentiment in set(sentiments)}\n",
        "\n",
        "    plt.bar(sentiment_counts.keys(), sentiment_counts.values(), color=['green', 'red', 'gray'])\n",
        "    plt.title(\"Sentiment Analysis Results\")\n",
        "    plt.xlabel(\"Sentiment\")\n",
        "    plt.ylabel(\"Count\")\n",
        "    plt.show()"
      ],
      "metadata": {
        "id": "7mHKCyWTj64m"
      },
      "execution_count": 6,
      "outputs": []
    },
    {
      "cell_type": "markdown",
      "source": [
        "4. Main Function with Example Text Data and Visualizing Sentiment Classification"
      ],
      "metadata": {
        "id": "l6Rg6Xy4kBOw"
      }
    },
    {
      "cell_type": "code",
      "source": [
        "if __name__ == \"__main__\":\n",
        "    # Example text data\n",
        "    texts = [\n",
        "        \"I love this product! It's amazing.\",\n",
        "        \"This is the worst service I've ever experienced.\",\n",
        "        \"The movie was okay, not too great but not bad either.\",\n",
        "        \"I'm so happy with my new phone.\",\n",
        "        \"The weather today is awful and gloomy.\",\n",
        "        \"I feel neutral about the current situation.\"\n",
        "    ]\n",
        "\n",
        "    sentiments = []\n",
        "    for text in texts:\n",
        "        polarity, subjectivity = analyze_sentiment(text)\n",
        "        sentiment = classify_sentiment(polarity)\n",
        "        sentiments.append(sentiment)\n",
        "        print(f\"Text: {text}\")\n",
        "        print(f\"Polarity: {polarity:.2f}, Subjectivity: {subjectivity:.2f}\")\n",
        "        print(f\"Sentiment: {sentiment}\")\n",
        "        print(\"-\" * 50)\n",
        "\n",
        "    # Visualize sentiment classifications\n",
        "    visualize_sentiments(texts, sentiments)\n"
      ],
      "metadata": {
        "colab": {
          "base_uri": "https://localhost:8080/",
          "height": 889
        },
        "id": "XfUpyZM9kBYT",
        "outputId": "33364fa6-c8e2-4e42-a008-0c6833e67708"
      },
      "execution_count": 7,
      "outputs": [
        {
          "output_type": "stream",
          "name": "stdout",
          "text": [
            "Text: I love this product! It's amazing.\n",
            "Polarity: 0.61, Subjectivity: 0.75\n",
            "Sentiment: Positive\n",
            "--------------------------------------------------\n",
            "Text: This is the worst service I've ever experienced.\n",
            "Polarity: -0.10, Subjectivity: 0.95\n",
            "Sentiment: Negative\n",
            "--------------------------------------------------\n",
            "Text: The movie was okay, not too great but not bad either.\n",
            "Polarity: 0.55, Subjectivity: 0.64\n",
            "Sentiment: Positive\n",
            "--------------------------------------------------\n",
            "Text: I'm so happy with my new phone.\n",
            "Polarity: 0.47, Subjectivity: 0.73\n",
            "Sentiment: Positive\n",
            "--------------------------------------------------\n",
            "Text: The weather today is awful and gloomy.\n",
            "Polarity: -1.00, Subjectivity: 1.00\n",
            "Sentiment: Negative\n",
            "--------------------------------------------------\n",
            "Text: I feel neutral about the current situation.\n",
            "Polarity: 0.00, Subjectivity: 0.40\n",
            "Sentiment: Neutral\n",
            "--------------------------------------------------\n"
          ]
        },
        {
          "output_type": "display_data",
          "data": {
            "text/plain": [
              "<Figure size 640x480 with 1 Axes>"
            ],
            "image/png": "[encoded data removed]"
          },
          "metadata": {}
        }
      ]
    }
  ]
}
