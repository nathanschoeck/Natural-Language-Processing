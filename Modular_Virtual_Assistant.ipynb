{
  "nbformat": 4,
  "nbformat_minor": 0,
  "metadata": {
    "colab": {
      "provenance": [],
      "authorship_tag": "ABX9TyN/Br7AHW1VsC+/MLNNLz5M",
      "include_colab_link": true
    },
    "kernelspec": {
      "name": "python3",
      "display_name": "Python 3"
    },
    "language_info": {
      "name": "python"
    }
  },
  "cells": [
    {
      "cell_type": "markdown",
      "metadata": {
        "id": "view-in-github",
        "colab_type": "text"
      },
      "source": [
        "<a href=\"https://colab.research.google.com/github/nathanschoeck/Natural-Language-Processing/blob/main/Modular_Virtual_Assistant.ipynb\" target=\"_parent\"><img src=\"https://colab.research.google.com/assets/colab-badge.svg\" alt=\"Open In Colab\"/></a>"
      ]
    },
    {
      "cell_type": "code",
      "execution_count": null,
      "metadata": {
        "colab": {
          "base_uri": "https://localhost:8080/"
        },
        "id": "Gu6YP6oQ0kqP",
        "outputId": "23e843e7-d2a3-4996-950c-c143600dd098"
      },
      "outputs": [
        {
          "output_type": "stream",
          "name": "stdout",
          "text": [
            "Jarvis: Good morning! How can I assist you today?\n",
            "You: What time is it?\n",
            "Jarvis: The current time is 03:12 AM.\n",
            "You: Open notepad\n",
            "Jarvis: Opening notepad...\n",
            "You: search for npl\n",
            "Jarvis: Opening https://www.google.com/search?q=npl...\n"
          ]
        }
      ],
      "source": [
        "import datetime\n",
        "import webbrowser\n",
        "import os\n",
        "\n",
        "\n",
        "class VirtualAssistant:\n",
        "    def __init__(self, name=\"Assistant\"):\n",
        "        self.name = name\n",
        "\n",
        "    def greet_user(self):\n",
        "        \"\"\"\n",
        "        Greet the user based on the current time.\n",
        "        \"\"\"\n",
        "        hour = datetime.datetime.now().hour\n",
        "        if hour < 12:\n",
        "            greeting = \"Good morning!\"\n",
        "        elif hour < 18:\n",
        "            greeting = \"Good afternoon!\"\n",
        "        else:\n",
        "            greeting = \"Good evening!\"\n",
        "        print(f\"{self.name}: {greeting} How can I assist you today?\")\n",
        "\n",
        "    def get_time(self):\n",
        "        \"\"\"\n",
        "        Return the current time.\n",
        "        \"\"\"\n",
        "        current_time = datetime.datetime.now().strftime(\"%I:%M %p\")\n",
        "        print(f\"{self.name}: The current time is {current_time}.\")\n",
        "\n",
        "    def get_date(self):\n",
        "        \"\"\"\n",
        "        Return today's date.\n",
        "        \"\"\"\n",
        "        today = datetime.datetime.now().strftime(\"%B %d, %Y\")\n",
        "        print(f\"{self.name}: Today's date is {today}.\")\n",
        "\n",
        "    def open_website(self, url):\n",
        "        \"\"\"\n",
        "        Open a website in the default web browser.\n",
        "        \"\"\"\n",
        "        try:\n",
        "            webbrowser.open(url)\n",
        "            print(f\"{self.name}: Opening {url}...\")\n",
        "        except Exception as e:\n",
        "            print(f\"{self.name}: Unable to open the website. Error: {e}\")\n",
        "\n",
        "    def open_application(self, application_name):\n",
        "        \"\"\"\n",
        "        Open a local application based on the name.\n",
        "        \"\"\"\n",
        "        try:\n",
        "            os.system(application_name)\n",
        "            print(f\"{self.name}: Opening {application_name}...\")\n",
        "        except Exception as e:\n",
        "            print(f\"{self.name}: Unable to open {application_name}. Error: {e}\")\n",
        "\n",
        "    def search_google(self, query):\n",
        "        \"\"\"\n",
        "        Search Google for a given query.\n",
        "        \"\"\"\n",
        "        search_url = f\"https://www.google.com/search?q={query}\"\n",
        "        self.open_website(search_url)\n",
        "\n",
        "    def handle_command(self, command):\n",
        "        \"\"\"\n",
        "        Handle user commands and perform the appropriate action.\n",
        "        \"\"\"\n",
        "        command = command.lower()\n",
        "\n",
        "        if \"time\" in command:\n",
        "            self.get_time()\n",
        "        elif \"date\" in command:\n",
        "            self.get_date()\n",
        "        elif \"open youtube\" in command:\n",
        "            self.open_website(\"https://www.youtube.com\")\n",
        "        elif \"search for\" in command:\n",
        "            query = command.split(\"search for\")[-1].strip()\n",
        "            self.search_google(query)\n",
        "        elif \"open notepad\" in command:\n",
        "            self.open_application(\"notepad\")\n",
        "        elif \"exit\" in command or \"quit\" in command or \"stop\" in command:\n",
        "            print(f\"{self.name}: Goodbye!\")\n",
        "            return False\n",
        "        else:\n",
        "            print(f\"{self.name}: I'm sorry, I don't understand that command.\")\n",
        "        return True\n",
        "\n",
        "\n",
        "if __name__ == \"__main__\":\n",
        "    assistant = VirtualAssistant(name=\"Jarvis\")\n",
        "    assistant.greet_user()\n",
        "\n",
        "    while True:\n",
        "        user_input = input(\"You: \")\n",
        "        if not assistant.handle_command(user_input):\n",
        "            break\n"
      ]
    },
    {
      "cell_type": "code",
      "source": [],
      "metadata": {
        "id": "2gV5ulgJ0lm_"
      },
      "execution_count": 6,
      "outputs": []
    }
  ]
}