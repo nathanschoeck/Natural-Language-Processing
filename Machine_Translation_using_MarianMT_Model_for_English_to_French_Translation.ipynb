{
  "nbformat": 4,
  "nbformat_minor": 0,
  "metadata": {
    "colab": {
      "provenance": [],
      "authorship_tag": "ABX9TyMaiuXK9EJWKYmmdU0YVJ9Y",
      "include_colab_link": true
    },
    "kernelspec": {
      "name": "python3",
      "display_name": "Python 3"
    },
    "language_info": {
      "name": "python"
    }
  },
  "cells": [
    {
      "cell_type": "markdown",
      "metadata": {
        "id": "view-in-github",
        "colab_type": "text"
      },
      "source": [
        "<a href=\"https://colab.research.google.com/github/nathanschoeck/Natural-Language-Processing/blob/main/Machine_Translation_using_MarianMT_Model_for_English_to_French_Translation.ipynb\" target=\"_parent\"><img src=\"https://colab.research.google.com/assets/colab-badge.svg\" alt=\"Open In Colab\"/></a>"
      ]
    },
    {
      "cell_type": "markdown",
      "source": [
        "\n",
        "Below is an example of Python code for machine translation using HuggingFace's Transformers library, which provides state-of-the-art models like MarianMT and T5 for translation.\n",
        "\n",
        "This example uses the MarianMT model for translating English sentences to French."
      ],
      "metadata": {
        "id": "FVdfYuB6k41Q"
      }
    },
    {
      "cell_type": "markdown",
      "source": [
        "1. Import Libraries"
      ],
      "metadata": {
        "id": "sH2b5iYDlZdM"
      }
    },
    {
      "cell_type": "code",
      "execution_count": 3,
      "metadata": {
        "id": "P-sVFADyk4UK"
      },
      "outputs": [],
      "source": [
        "from transformers import MarianMTModel, MarianTokenizer"
      ]
    },
    {
      "cell_type": "markdown",
      "source": [
        "2. Translate Text Library"
      ],
      "metadata": {
        "id": "j7wv_-Kolcm3"
      }
    },
    {
      "cell_type": "code",
      "source": [
        "def translate_text(texts, src_lang=\"en\", tgt_lang=\"fr\"):\n",
        "    \"\"\"\n",
        "    Translate a list of texts from the source language to the target language.\n",
        "\n",
        "    Parameters:\n",
        "    - texts (list of str): Sentences to be translated.\n",
        "    - src_lang (str): Source language code (default: \"en\").\n",
        "    - tgt_lang (str): Target language code (default: \"fr\").\n",
        "\n",
        "    Returns:\n",
        "    - List of translated sentences.\n",
        "    \"\"\"\n",
        "    model_name = f\"Helsinki-NLP/opus-mt-{src_lang}-{tgt_lang}\"\n",
        "    tokenizer = MarianTokenizer.from_pretrained(model_name)\n",
        "    model = MarianMTModel.from_pretrained(model_name)\n",
        "\n",
        "    # Tokenize and translate the sentences\n",
        "    inputs = tokenizer(texts, return_tensors=\"pt\", padding=True, truncation=True)\n",
        "    translated = model.generate(**inputs)\n",
        "    translated_texts = [tokenizer.decode(t, skip_special_tokens=True) for t in translated]\n",
        "\n",
        "    return translated_texts"
      ],
      "metadata": {
        "id": "MhIhKi0rlIKh"
      },
      "execution_count": 4,
      "outputs": []
    },
    {
      "cell_type": "markdown",
      "source": [
        "3. Main Function with Sentences in English and Print Translation"
      ],
      "metadata": {
        "id": "I3-KxapilmM3"
      }
    },
    {
      "cell_type": "code",
      "source": [
        "if __name__ == \"__main__\":\n",
        "    # Example sentences in English\n",
        "    texts = [\n",
        "        \"Hello, how are you?\",\n",
        "        \"This is a great example of machine translation.\",\n",
        "        \"Can you help me with this task?\",\n",
        "        \"I love programming and learning new technologies.\"\n",
        "    ]\n",
        "\n",
        "    # Translate English to French\n",
        "    src_lang = \"en\"\n",
        "    tgt_lang = \"fr\"\n",
        "\n",
        "    translated_texts = translate_text(texts, src_lang, tgt_lang)\n",
        "\n",
        "    # Print the translations\n",
        "    for i, (original, translated) in enumerate(zip(texts, translated_texts), 1):\n",
        "        print(f\"{i}. Original ({src_lang}): {original}\")\n",
        "        print(f\"   Translated ({tgt_lang}): {translated}\")\n",
        "        print(\"-\" * 50)"
      ],
      "metadata": {
        "colab": {
          "base_uri": "https://localhost:8080/"
        },
        "id": "mggxCeIalmWi",
        "outputId": "eea1be00-2097-4f1c-ec73-2569d25acb0d"
      },
      "execution_count": 5,
      "outputs": [
        {
          "output_type": "stream",
          "name": "stderr",
          "text": [
            "/usr/local/lib/python3.11/dist-packages/transformers/models/marian/tokenization_marian.py:175: UserWarning: Recommended: pip install sacremoses.\n",
            "  warnings.warn(\"Recommended: pip install sacremoses.\")\n"
          ]
        },
        {
          "output_type": "stream",
          "name": "stdout",
          "text": [
            "1. Original (en): Hello, how are you?\n",
            "   Translated (fr): Bonjour, comment allez-vous ?\n",
            "--------------------------------------------------\n",
            "2. Original (en): This is a great example of machine translation.\n",
            "   Translated (fr): C'est un excellent exemple de traduction automatique.\n",
            "--------------------------------------------------\n",
            "3. Original (en): Can you help me with this task?\n",
            "   Translated (fr): Pouvez-vous m'aider dans cette tâche ?\n",
            "--------------------------------------------------\n",
            "4. Original (en): I love programming and learning new technologies.\n",
            "   Translated (fr): J'adore la programmation et l'apprentissage des nouvelles technologies.\n",
            "--------------------------------------------------\n"
          ]
        }
      ]
    }
  ]
}