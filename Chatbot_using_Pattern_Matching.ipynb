{
  "nbformat": 4,
  "nbformat_minor": 0,
  "metadata": {
    "colab": {
      "provenance": [],
      "authorship_tag": "ABX9TyP9ySkb/hz+IygKHmEoh3rT",
      "include_colab_link": true
    },
    "kernelspec": {
      "name": "python3",
      "display_name": "Python 3"
    },
    "language_info": {
      "name": "python"
    }
  },
  "cells": [
    {
      "cell_type": "markdown",
      "metadata": {
        "id": "view-in-github",
        "colab_type": "text"
      },
      "source": [
        "<a href=\"https://colab.research.google.com/github/nathanschoeck/Natural-Language-Processing/blob/main/Chatbot_using_Pattern_Matching.ipynb\" target=\"_parent\"><img src=\"https://colab.research.google.com/assets/colab-badge.svg\" alt=\"Open In Colab\"/></a>"
      ]
    },
    {
      "cell_type": "code",
      "execution_count": null,
      "metadata": {
        "colab": {
          "base_uri": "https://localhost:8080/"
        },
        "id": "VCXIaqOYqW8A",
        "outputId": "ea764495-2d2b-42d0-deba-bfd713d9851f"
      },
      "outputs": [
        {
          "output_type": "stream",
          "name": "stdout",
          "text": [
            "ChatBot: Hello! Type 'bye', 'exit', or 'quit' to end the chat.\n",
            ">How are you?\n",
            "I'm just a bot, but I'm doing well. How can I help you?\n",
            ">What can you do?\n",
            "I can answer your questions, chat with you, and assist with basic tasks.\n",
            ">What is your name?\n",
            "You can call me ChatBot.\n",
            ">asdfsdfsdf\n",
            "I'm sorry, I didn't quite understand that. Can you rephrase?\n",
            ">Bye!\n",
            "Bye! Take care!\n"
          ]
        }
      ],
      "source": [
        "import random\n",
        "import nltk\n",
        "from nltk.chat.util import Chat, reflections\n",
        "\n",
        "# Define pairs of patterns and responses\n",
        "pairs = [\n",
        "    [\n",
        "        r\"hi|hello|hey\",\n",
        "        [\"Hello!\", \"Hi there!\", \"Hey! How can I assist you today?\"]\n",
        "    ],\n",
        "    [\n",
        "        r\"how are you?\",\n",
        "        [\"I'm just a bot, but I'm doing well. How can I help you?\", \"I'm great! What about you?\"]\n",
        "    ],\n",
        "    [\n",
        "        r\"what is your name?\",\n",
        "        [\"I'm a chatbot created to assist you.\", \"You can call me ChatBot.\"]\n",
        "    ],\n",
        "    [\n",
        "        r\"what can you do?\",\n",
        "        [\"I can answer your questions, chat with you, and assist with basic tasks.\",\n",
        "         \"I'm here to provide information and keep you company.\"]\n",
        "    ],\n",
        "    [\n",
        "        r\"how can I (.*)\",\n",
        "        [\"You can %1 by focusing on learning step by step.\", \"Let me help you figure out how to %1.\"]\n",
        "    ],\n",
        "    [\n",
        "        r\"bye|exit|quit\",\n",
        "        [\"Goodbye! Have a great day!\", \"Bye! Take care!\"]\n",
        "    ],\n",
        "    [\n",
        "        r\"(.*)\",\n",
        "        [\"I'm sorry, I didn't quite understand that. Can you rephrase?\",\n",
        "         \"I'm here to help! Could you provide more details?\"]\n",
        "    ]\n",
        "]\n",
        "\n",
        "# Initialize chatbot\n",
        "def chatbot():\n",
        "    print(\"ChatBot: Hello! Type 'bye', 'exit', or 'quit' to end the chat.\")\n",
        "    chat = Chat(pairs, reflections)\n",
        "    chat.converse()\n",
        "\n",
        "if __name__ == \"__main__\":\n",
        "    chatbot()\n"
      ]
    },
    {
      "cell_type": "code",
      "source": [],
      "metadata": {
        "id": "Eg7AUaYhrA3C"
      },
      "execution_count": 22,
      "outputs": []
    },
    {
      "cell_type": "code",
      "source": [],
      "metadata": {
        "id": "OJDWFxEzqz8a"
      },
      "execution_count": null,
      "outputs": []
    }
  ]
}